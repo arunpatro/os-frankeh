{
 "cells": [
  {
   "cell_type": "code",
   "execution_count": null,
   "metadata": {},
   "outputs": [],
   "source": [
    "from collections import deque\n",
    "from enum import Enum\n",
    "import random\n",
    "import heapq\n"
   ]
  },
  {
   "cell_type": "code",
   "execution_count": null,
   "metadata": {},
   "outputs": [],
   "source": [
    "rand_index = 0\n",
    "current_running_process = None\n",
    "\n",
    "# final stats\n",
    "last_process_finish_time = float('-inf')\n",
    "cpu_util = 0\n",
    "io_util = 0\n",
    "avg_tat = 0\n",
    "avg_cw = 0\n",
    "throughput = 0"
   ]
  },
  {
   "cell_type": "code",
   "execution_count": null,
   "metadata": {},
   "outputs": [],
   "source": [
    "class process_state(Enum):\n",
    "    CREATED = 1\n",
    "    READY = 2\n",
    "    RUNNING = 3\n",
    "    BLOCKED = 4\n",
    "    \n",
    "class process_transition(Enum):\n",
    "    CREATED_TO_READY = 1\n",
    "    READY_TO_RUNNING = 2\n",
    "    RUNNING_TO_BLOCKED = 3\n",
    "    BLOCKED_TO_READY = 4\n",
    "    RUNNING_TO_READY = 5\n",
    "    DONE = 6\n",
    "\n",
    "class Process:\n",
    "    def __init__(self, id, at, tc, cb, io):\n",
    "        self.id = id\n",
    "        \n",
    "        self.at = at\n",
    "        self.tc = tc\n",
    "        self.cb = cb\n",
    "        self.io = io\n",
    "        \n",
    "        self.prio = None\n",
    "        self.remaining_time = tc\n",
    "        self.finish_time = None\n",
    "        self.turnaround_time = None\n",
    "        self.io_time = 0\n",
    "        self.cw = 0"
   ]
  },
  {
   "cell_type": "code",
   "execution_count": null,
   "metadata": {},
   "outputs": [],
   "source": [
    "class Scheduler:\n",
    "    def __init__(self, name):\n",
    "        self.name = name\n",
    "        self.runQ = []\n",
    "    \n",
    "    def schedule(self):\n",
    "        # get the next process from the runQ\n",
    "        pid = self.runQ.pop(0)\n",
    "        \n",
    "    \n",
    "class DES:\n",
    "    def __init__(self, process_arr):\n",
    "        self.process_arr = process_arr\n",
    "        self.event_queue = []\n",
    "        \n",
    "    def next_event(self):\n",
    "        if len(self.event_queue) == 0:\n",
    "            return None\n",
    "\n",
    "        return heapq.heappop(self.event_queue)\n",
    "    \n",
    "    \n",
    "class RandGenerator:\n",
    "    def __init__(self, filename):\n",
    "        self.random_numbers = get_random_numbers(filename)\n",
    "        self.rand_index = 0\n",
    "    \n",
    "    def next(self):\n",
    "        rand = self.random_numbers[self.rand_index]\n",
    "        # increment the index\n",
    "        self.rand_index = (self.rand_index + 1) #% len(self.random_numbers)\n",
    "        return rand\n"
   ]
  },
  {
   "cell_type": "code",
   "execution_count": null,
   "metadata": {},
   "outputs": [],
   "source": [
    "def get_random_numbers(filename:str) -> list[int]:\n",
    "    random_numbers = []\n",
    "    with open(filename) as f:\n",
    "        random_numbers = f.readlines()\n",
    "        \n",
    "    randos = [int(i) for i in random_numbers[1:]]\n",
    "    return randos\n",
    "\n",
    "def get_process_array(filename:str) -> deque[Process]:\n",
    "    process_array = []\n",
    "    with open(filename) as f:\n",
    "        pid = 0\n",
    "        for line in f:\n",
    "            at, tc, cb, io = [int(i) for i in line.split()]\n",
    "            process_array.append(Process(pid, at, tc, cb, io))\n",
    "            pid+=1\n",
    "    return process_array\n",
    "\n",
    "def print_summary():\n",
    "    print(scheduler.name)\n",
    "    for process in process_arr:\n",
    "        print(f\"{process.id:04d}:\\t{process.at}\\t{process.tc}\\t{process.cb}\\t{process.io}\\t{process.prio} | {process.finish_time}\\t{process.turnaround_time}\\t{process.io_time}\\t{process.cw}\")\n",
    "        \n",
    "    print(f\"SUM: {last_process_finish_time} {cpu_util} {io_util} {avg_tat} {avg_cw} {throughput}\")\n"
   ]
  },
  {
   "cell_type": "code",
   "execution_count": null,
   "metadata": {},
   "outputs": [],
   "source": [
    "def init_des():\n",
    "    for process in process_arr:\n",
    "        event = (process.at, process.id, 0, process_transition.CREATED_TO_READY)\n",
    "        heapq.heappush(des.event_queue, event)"
   ]
  },
  {
   "cell_type": "code",
   "execution_count": null,
   "metadata": {},
   "outputs": [],
   "source": [
    "def simulation():\n",
    "    global last_process_finish_time\n",
    "    while (event := des.next_event()):\n",
    "        clock, pid, time_in_state, transition = event\n",
    "        remaining_time = process_arr[pid].remaining_time\n",
    "        if transition == process_transition.CREATED_TO_READY:\n",
    "            # print(\"Transition is created to ready\")\n",
    "            # scheduler.runQ.append(pid)\n",
    "            # call_scheduler = True\n",
    "            # scheduler.schedule()\n",
    "            print(f\"{clock} {pid} {time_in_state}: {transition.name}\")\n",
    "            next_event_for_this_pid = (clock, pid, 0, process_transition.READY_TO_RUNNING)\n",
    "            heapq.heappush(des.event_queue, next_event_for_this_pid)\n",
    "            # scheduler.runQ.append(pid)\n",
    "            # scheduler.schedule()\n",
    "        elif transition == process_transition.READY_TO_RUNNING:\n",
    "            # print(\"Transition is ready to running\")\n",
    "            ## make the first process in the ready queue the running process\n",
    "            # running_pid = ready_queue.pop(0)\n",
    "            ## choose a random number between 1 and cb or if cb is greater than time left, choose time left\n",
    "            # cpuburst = min(process_arr[running_pid].time_left, )\n",
    "            cpuburst = 1 + (rand_generator.next() % int(process_arr[pid].cb))\n",
    "            cpuburst = min(cpuburst, process_arr[pid].remaining_time)\n",
    "            print(f\"{clock} {pid} {time_in_state}: {transition.name} cb={cpuburst} rem={remaining_time}\")\n",
    "            \n",
    "            ## if the cpuburst is equal to the remaining time, then the process is done\n",
    "            if (cpuburst == process_arr[pid].remaining_time):\n",
    "                next_event_for_this_pid = (clock + cpuburst, pid, cpuburst, process_transition.DONE)\n",
    "            else:\n",
    "                next_event_for_this_pid = (clock + cpuburst, pid, cpuburst, process_transition.RUNNING_TO_BLOCKED)\n",
    "            process_arr[pid].remaining_time -= cpuburst\n",
    "            \n",
    "            heapq.heappush(des.event_queue, next_event_for_this_pid)\n",
    "        elif transition == process_transition.RUNNING_TO_BLOCKED:\n",
    "            # print(\"Transition is running to blocked\")\n",
    "            ## choose a random number between 1 and io or if io is greater than time left, choose time left\n",
    "            \n",
    "            ioburst = 1 + (rand_generator.next() % int(process_arr[pid].io))\n",
    "            \n",
    "            print(f\"{clock} {pid} {time_in_state}: {transition.name} io={ioburst} rem={remaining_time}\")\n",
    "            next_event_for_this_pid = (clock + ioburst, pid, ioburst, process_transition.BLOCKED_TO_READY)\n",
    "            heapq.heappush(des.event_queue, next_event_for_this_pid)\n",
    "        elif transition == process_transition.BLOCKED_TO_READY:\n",
    "            # scheduler.runQ.append(pid)\n",
    "            print(f\"{clock} {pid} {time_in_state}: {transition.name}\")\n",
    "            next_event_for_this_pid = (clock, pid, 0, process_transition.READY_TO_RUNNING)\n",
    "            heapq.heappush(des.event_queue, next_event_for_this_pid)\n",
    "        elif transition == process_transition.RUNNING_TO_READY:\n",
    "            print(\"Transition is running to ready\")\n",
    "        elif transition == process_transition.DONE:\n",
    "            print(f\"{clock} {pid} {time_in_state}: {transition.name}\")\n",
    "            last_process_finish_time = max(last_process_finish_time, clock)\n",
    "            \n",
    "    print_summary()        "
   ]
  },
  {
   "cell_type": "code",
   "execution_count": null,
   "metadata": {},
   "outputs": [],
   "source": [
    "# def main():\n",
    "process_arr = get_process_array(\"../lab2_assign/input0\")\n",
    "rand_generator = RandGenerator(\"../lab2_assign/rfile\")\n",
    "\n",
    "des = DES(process_arr)\n",
    "scheduler = Scheduler(\"FCFS\")\n",
    "\n",
    "init_des()\n",
    "simulation()\n",
    "    "
   ]
  },
  {
   "cell_type": "code",
   "execution_count": 17,
   "metadata": {},
   "outputs": [],
   "source": [
    "rand_generator = RandGenerator(\"../lab2_assign/rfile\")"
   ]
  },
  {
   "cell_type": "code",
   "execution_count": 18,
   "metadata": {},
   "outputs": [
    {
     "data": {
      "text/plain": [
       "40000"
      ]
     },
     "execution_count": 18,
     "metadata": {},
     "output_type": "execute_result"
    }
   ],
   "source": []
  },
  {
   "cell_type": "code",
   "execution_count": null,
   "metadata": {},
   "outputs": [],
   "source": []
  }
 ],
 "metadata": {
  "kernelspec": {
   "display_name": "arun",
   "language": "python",
   "name": "python3"
  },
  "language_info": {
   "codemirror_mode": {
    "name": "ipython",
    "version": 3
   },
   "file_extension": ".py",
   "mimetype": "text/x-python",
   "name": "python",
   "nbconvert_exporter": "python",
   "pygments_lexer": "ipython3",
   "version": "3.9.5"
  },
  "orig_nbformat": 4,
  "vscode": {
   "interpreter": {
    "hash": "64bdc7220daa3bbf61c04210b2959c90dc49586c142ed9dbb6f11d947315e366"
   }
  }
 },
 "nbformat": 4,
 "nbformat_minor": 2
}
